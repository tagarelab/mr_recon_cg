{
 "cells": [
  {
   "cell_type": "markdown",
   "id": "10183bbb",
   "metadata": {},
   "source": [
    "# Conjugate Gradients with operators\n",
    "\n",
    "Written by H. Tagare 2/8/2024\n",
    "\n",
    "The operators are defined in the folder optlib\n",
    "The CG algorithm is defined in the folder c_grad\n",
    "Both have to imported to get everything to work"
   ]
  },
  {
   "cell_type": "code",
   "execution_count": 2,
   "id": "79bed0e3",
   "metadata": {
    "ExecuteTime": {
     "end_time": "2024-02-22T15:36:52.282323200Z",
     "start_time": "2024-02-22T15:36:52.211317100Z"
    }
   },
   "outputs": [],
   "source": [
    "import numpy as np\n",
    "import optlib.operators as op\n",
    "import optlib.c_grad as cg"
   ]
  },
  {
   "cell_type": "markdown",
   "id": "92840270",
   "metadata": {},
   "source": [
    "### Test 1: Simple test without noise\n",
    "#### The operator A is (MO+R). Task is to recover a vector. No regularization on CG"
   ]
  },
  {
   "cell_type": "code",
   "execution_count": 3,
   "id": "d9a5c0ef",
   "metadata": {
    "scrolled": true,
    "ExecuteTime": {
     "end_time": "2024-02-22T15:36:52.298028800Z",
     "start_time": "2024-02-22T15:36:52.282323200Z"
    }
   },
   "outputs": [
    {
     "name": "stdout",
     "output_type": "stream",
     "text": [
      "x=[[1. ]\n",
      " [0.5]\n",
      " [1. ]]\n",
      " y=[[10.1 ]\n",
      " [ 1.05]\n",
      " [ 9.1 ]]\n",
      "CG: step=1 res_norm=3.234651420766811 \n",
      "CG: step=2 res_norm=0.7480204131885724 \n",
      "CG: step=3 res_norm=6.8985257123446856e-12 \n",
      "x=[[1. ]\n",
      " [0.5]\n",
      " [1. ]] \n",
      " flag=False\n"
     ]
    }
   ],
   "source": [
    "M=op.matrix_op(np.array(((1, 2, 3),(0, 1, 0),(2, 3,1))))\n",
    "O=op.scalar_prod_op(2.0)\n",
    "R=op.scalar_prod_op(0.1)\n",
    "A=op.add_op(op.composite_op(M,O),R) \n",
    "\n",
    "x=np.array((1,0.5,1)).reshape(-1,1) #Input x\n",
    "y=A.forward(x) #Create noiseless output by applying A\n",
    "print(f\"x={x}\\n y={y}\")\n",
    "\n",
    "x0=np.zeros_like(x) #Initial value for CG\n",
    "x,flag=cg.c_grad(y,A,x0)\n",
    "print(f\"x={x} \\n flag={flag}\")"
   ]
  },
  {
   "cell_type": "markdown",
   "id": "a02fd9cb",
   "metadata": {},
   "source": [
    "### Test 2: x is matrix, y contains noise, CG uses regularizer"
   ]
  },
  {
   "cell_type": "code",
   "execution_count": 4,
   "id": "4a3731a4",
   "metadata": {
    "ExecuteTime": {
     "end_time": "2024-02-22T15:36:52.361492Z",
     "start_time": "2024-02-22T15:36:52.298028800Z"
    }
   },
   "outputs": [
    {
     "name": "stdout",
     "output_type": "stream",
     "text": [
      "x=[[1.  0. ]\n",
      " [0.5 1. ]\n",
      " [1.  0. ]]\n",
      " y=[[10.11272192  3.924224  ]\n",
      " [ 0.91623733  2.03982036]\n",
      " [ 3.00978323 -6.17381145]]\n",
      "CG: step=1 res_norm=8.254539085976411 \n",
      "CG: step=2 res_norm=0.15339979165680256 \n",
      "CG: step=3 res_norm=1.693502937786407e-13 \n",
      "x=[[ 0.82286805 -0.11322942]\n",
      " [ 0.43475462  0.96988142]\n",
      " [ 1.10738359  0.04704378]] \n",
      " flag=False\n"
     ]
    }
   ],
   "source": [
    "M=op.matrix_op(np.array(((1, 2, 3),(0, 1, 0),(2, -3,1))))\n",
    "O=op.scalar_prod_op(2.0)\n",
    "R=op.scalar_prod_op(0.1)\n",
    "\n",
    "A=op.add_op(op.composite_op(M,O),R)\n",
    "\n",
    "x=np.transpose(np.array(((1,0.5,1),(0,1,0))))\n",
    "y=A.forward(x)\n",
    "y=y+0.1*np.random.normal(size=y.shape)\n",
    "print(f\"x={x}\\n y={y}\")\n",
    "\n",
    "x0=np.zeros_like(x)\n",
    "x,flag=cg.c_grad(y,A,x0,B=R,f_tol=1e-6)\n",
    "print(f\"x={x} \\n flag={flag}\")\n"
   ]
  },
  {
   "cell_type": "markdown",
   "id": "dda9f33f",
   "metadata": {
    "scrolled": true
   },
   "source": [
    "### CG with fft"
   ]
  },
  {
   "cell_type": "code",
   "execution_count": 5,
   "id": "6455c223",
   "metadata": {
    "ExecuteTime": {
     "end_time": "2024-02-22T15:36:52.361492Z",
     "start_time": "2024-02-22T15:36:52.314042600Z"
    }
   },
   "outputs": [
    {
     "name": "stdout",
     "output_type": "stream",
     "text": [
      "[[-0.74847011  0.0252821   1.04943368  0.02033035]\n",
      " [-1.27323234  0.35880291  0.4664044  -1.79830664]\n",
      " [-0.32549423  1.4674783   1.28876532 -0.09549174]\n",
      " [ 0.86345455 -1.32773834  1.08637846 -0.01367917]]\n",
      "x=[[-0.74847011  0.0252821   1.04943368  0.02033035]\n",
      " [-1.27323234  0.35880291  0.4664044  -1.79830664]\n",
      " [-0.32549423  1.4674783   1.28876532 -0.09549174]\n",
      " [ 0.86345455 -1.32773834  1.08637846 -0.01367917]]\n",
      "CG: step=1 res_norm=2.0407899217551515e-16 \n",
      "[[-0.6411034   0.07410848  1.00527908  0.06920576]\n",
      " [-1.24513369  0.43017781  0.43819651 -1.71306912]\n",
      " [-0.41067715  1.45547539  1.28818815 -0.0920197 ]\n",
      " [ 0.87039788 -1.24715991  1.05203222  0.06138367]]\n"
     ]
    }
   ],
   "source": [
    "x=np.random.normal(size=(4,4))\n",
    "print(x)\n",
    "A=op.real_fftn_op()\n",
    "y=A.forward(x)\n",
    "y=y+0.2*np.random.normal(size=y.shape)\n",
    "#print(f\"x={x}\\n y={y}\")\n",
    "print(f\"x={x}\")\n",
    "\n",
    "x0=np.zeros_like(x)\n",
    "R=op.scalar_prod_op(0.1)\n",
    "x,_=cg.c_grad(y,A,x0,B=R)\n",
    "print(x)"
   ]
  },
  {
   "cell_type": "code",
   "execution_count": 6,
   "id": "b8c198cb",
   "metadata": {
    "ExecuteTime": {
     "end_time": "2024-02-22T15:36:52.371503Z",
     "start_time": "2024-02-22T15:36:52.329773400Z"
    }
   },
   "outputs": [
    {
     "name": "stdout",
     "output_type": "stream",
     "text": [
      "[[ 0.86385648-0.31185353j  0.30963617+0.9197518j  -1.82486437-0.160047j\n",
      "   1.05191509-0.6500287j ]\n",
      " [ 1.39106785+1.80722323j -0.26862791-1.65648538j  1.00808291+0.12334677j\n",
      "   0.47920033+0.78423757j]\n",
      " [-1.58596583+0.38815376j  0.87893735-0.14099236j  1.17247354+1.08290501j\n",
      "  -0.75271663+0.69859992j]\n",
      " [ 0.5032992 -0.63724547j  1.43416671+1.85455308j  0.29014939+1.36207753j\n",
      "   0.04378243+0.46808921j]]\n",
      "x=[[ 0.86385648-0.31185353j  0.30963617+0.9197518j  -1.82486437-0.160047j\n",
      "   1.05191509-0.6500287j ]\n",
      " [ 1.39106785+1.80722323j -0.26862791-1.65648538j  1.00808291+0.12334677j\n",
      "   0.47920033+0.78423757j]\n",
      " [-1.58596583+0.38815376j  0.87893735-0.14099236j  1.17247354+1.08290501j\n",
      "  -0.75271663+0.69859992j]\n",
      " [ 0.5032992 -0.63724547j  1.43416671+1.85455308j  0.29014939+1.36207753j\n",
      "   0.04378243+0.46808921j]]\n",
      "CG: step=1 res_norm=7.714352551028867e-16 \n",
      "[[ 0.82050031-0.30876587j  0.28970463+0.92776103j -1.74056791-0.15846237j\n",
      "   1.02463425-0.66070845j]\n",
      " [ 1.35597518+1.80929633j -0.20645877-1.6642797j   1.04315859+0.1117387j\n",
      "   0.46254521+0.81746105j]\n",
      " [-1.53654116+0.38431066j  0.84821271-0.14945341j  1.12470186+1.07218318j\n",
      "  -0.76728629+0.7015401j ]\n",
      " [ 0.47699632-0.6509025j   1.40805648+1.79520296j  0.33233333+1.35897843j\n",
      "   0.1028584 +0.48764984j]]\n"
     ]
    }
   ],
   "source": [
    "x=np.random.normal(size=(4,4))+1j*np.random.normal(size=(4,4))\n",
    "print(x)\n",
    "A=op.fftn_op()\n",
    "y=A.forward(x)\n",
    "y=y+0.2*np.random.normal(size=y.shape)\n",
    "#print(f\"x={x}\\n y={y}\")\n",
    "print(f\"x={x}\")\n",
    "\n",
    "x0=np.zeros_like(x)\n",
    "R=op.scalar_prod_op(0.1)\n",
    "x,_=cg.c_grad(y,A,x0,B=R)\n",
    "print(x)"
   ]
  },
  {
   "cell_type": "code",
   "execution_count": 6,
   "outputs": [],
   "source": [],
   "metadata": {
    "collapsed": false,
    "ExecuteTime": {
     "end_time": "2024-02-22T15:36:52.371503Z",
     "start_time": "2024-02-22T15:36:52.361492Z"
    }
   }
  },
  {
   "cell_type": "code",
   "execution_count": 6,
   "outputs": [],
   "source": [],
   "metadata": {
    "collapsed": false,
    "ExecuteTime": {
     "end_time": "2024-02-22T15:36:52.377508900Z",
     "start_time": "2024-02-22T15:36:52.361492Z"
    }
   }
  }
 ],
 "metadata": {
  "kernelspec": {
   "display_name": "Python 3 (ipykernel)",
   "language": "python",
   "name": "python3"
  },
  "language_info": {
   "codemirror_mode": {
    "name": "ipython",
    "version": 3
   },
   "file_extension": ".py",
   "mimetype": "text/x-python",
   "name": "python",
   "nbconvert_exporter": "python",
   "pygments_lexer": "ipython3",
   "version": "3.10.9"
  }
 },
 "nbformat": 4,
 "nbformat_minor": 5
}
