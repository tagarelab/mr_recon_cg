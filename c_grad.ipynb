{
 "cells": [
  {
   "cell_type": "markdown",
   "id": "10183bbb",
   "metadata": {},
   "source": [
    "# Conjugate Gradients with operators\n",
    "\n",
    "Written by H. Tagare 2/8/2024\n",
    "\n",
    "The operators are defined in the folder optlib\n",
    "The CG algorithm is defined in the folder c_grad\n",
    "Both have to imported to get everything to work"
   ]
  },
  {
   "cell_type": "code",
   "execution_count": 4,
   "id": "79bed0e3",
   "metadata": {},
   "outputs": [
    {
     "data": {
      "text/plain": [
       "<module 'optlib.c_grad' from 'C:\\\\Users\\\\hdtag\\\\rpt\\\\2024\\\\c_grad\\\\optlib\\\\c_grad.py'>"
      ]
     },
     "execution_count": 4,
     "metadata": {},
     "output_type": "execute_result"
    }
   ],
   "source": [
    "import numpy as np\n",
    "import optlib.operators as op\n",
    "import optlib.c_grad as cg\n",
    "import importlib\n",
    "importlib.reload(cg)"
   ]
  },
  {
   "cell_type": "markdown",
   "id": "92840270",
   "metadata": {},
   "source": [
    "### Test 1: Simple test without noise\n",
    "#### The operator A is (MO+R). Task is to recover a vector. No regularization on CG"
   ]
  },
  {
   "cell_type": "code",
   "execution_count": 5,
   "id": "d9a5c0ef",
   "metadata": {
    "scrolled": true
   },
   "outputs": [
    {
     "name": "stdout",
     "output_type": "stream",
     "text": [
      "x=[[1. ]\n",
      " [0.5]\n",
      " [1. ]]\n",
      " y=[[10.1 ]\n",
      " [ 1.05]\n",
      " [ 9.1 ]]\n",
      "CG: step=3 res_norm=6.937076823812195e-12 \n",
      "x=[[1. ]\n",
      " [0.5]\n",
      " [1. ]] \n",
      " flag=False\n"
     ]
    }
   ],
   "source": [
    "M=op.matrix_op(np.array(((1, 2, 3),(0, 1, 0),(2, 3,1))))\n",
    "O=op.scalar_prod_op(2.0)\n",
    "R=op.scalar_prod_op(0.1)\n",
    "A=op.add_op(op.composite_op(M,O),R) \n",
    "\n",
    "x=np.array((1,0.5,1)).reshape(-1,1) #Input x\n",
    "y=A.forward(x) #Create noiseless output by applying A\n",
    "print(f\"x={x}\\n y={y}\")\n",
    "\n",
    "x0=np.zeros_like(x) #Initial value for CG\n",
    "# x,flag=cg.c_grad(y,A,x0) #Apply CG\n",
    "x,flag=cg.solve_lin_cg(y,A,x0)\n",
    "print(f\"x={x} \\n flag={flag}\")"
   ]
  },
  {
   "cell_type": "markdown",
   "id": "a02fd9cb",
   "metadata": {},
   "source": [
    "### Test 2: x is matrix, y contains noise, CG uses regularizer"
   ]
  },
  {
   "cell_type": "code",
   "execution_count": 6,
   "id": "4a3731a4",
   "metadata": {},
   "outputs": [
    {
     "name": "stdout",
     "output_type": "stream",
     "text": [
      "x=[[1.  0. ]\n",
      " [0.5 1. ]\n",
      " [1.  0. ]]\n",
      " y=[[10.1045605   4.01415818]\n",
      " [ 1.01948538  2.20375285]\n",
      " [ 2.93900117 -6.20903933]]\n",
      "CG: step=3 res_norm=1.410427453446521e-13 \n",
      "x=[[ 0.91726717  0.04643509]\n",
      " [ 0.48546923  1.04940612]\n",
      " [ 1.03940376 -0.04683   ]] \n",
      " flag=False\n"
     ]
    }
   ],
   "source": [
    "importlib.reload(cg)\n",
    "M=op.matrix_op(np.array(((1, 2, 3),(0, 1, 0),(2, -3,1))))\n",
    "O=op.scalar_prod_op(2.0)\n",
    "R=op.scalar_prod_op(0.1)\n",
    "\n",
    "A=op.add_op(op.composite_op(M,O),R)\n",
    "\n",
    "x=np.transpose(np.array(((1,0.5,1),(0,1,0))))\n",
    "y=A.forward(x)\n",
    "y=y+0.1*np.random.normal(size=y.shape)\n",
    "print(f\"x={x}\\n y={y}\")\n",
    "\n",
    "x0=np.zeros_like(x)\n",
    "x,flag=cg.solve_L2_min(y,A,x0,B=R,f_tol=1e-6)\n",
    "print(f\"x={x} \\n flag={flag}\")\n"
   ]
  },
  {
   "cell_type": "markdown",
   "id": "dda9f33f",
   "metadata": {
    "scrolled": true
   },
   "source": [
    "### CG with fft"
   ]
  },
  {
   "cell_type": "code",
   "execution_count": 8,
   "id": "6455c223",
   "metadata": {},
   "outputs": [
    {
     "name": "stdout",
     "output_type": "stream",
     "text": [
      "[[ 1.04071935 -0.61788709 -0.32255295 -0.88875921]\n",
      " [ 2.19764072  1.33715726  0.38545432 -1.00781026]\n",
      " [ 0.45016272  0.08440863 -2.33684131  0.68688993]\n",
      " [ 0.3981621   1.49109557  0.01734395 -0.29766602]]\n",
      "CG: step=1 res_norm=4.3709524189038457e-16 \n",
      "[[ 1.09623369 -0.60449197 -0.23753085 -0.87536409]\n",
      " [ 2.12208495  1.32236843  0.41651987 -0.97397677]\n",
      " [ 0.45812757  0.09290777 -2.33046873  0.69538907]\n",
      " [ 0.32260634  1.52492906  0.0484095  -0.31245486]]\n"
     ]
    }
   ],
   "source": [
    "importlib.reload(cg)\n",
    "x=np.random.normal(size=(4,4))\n",
    "print(x)\n",
    "A=op.real_fftn_op()\n",
    "y=A.forward(x)\n",
    "y=y+0.2*np.random.normal(size=y.shape)\n",
    "#print(f\"x={x}\\n y={y}\")\n",
    "#print(f\"x={x}\")\n",
    "\n",
    "x0=np.zeros_like(x)\n",
    "R=op.scalar_prod_op(0.1)\n",
    "x,_=cg.solve_L2_min(y,A,x0,B=R)\n",
    "print(x)"
   ]
  },
  {
   "cell_type": "code",
   "execution_count": null,
   "id": "b8c198cb",
   "metadata": {},
   "outputs": [],
   "source": []
  }
 ],
 "metadata": {
  "kernelspec": {
   "display_name": "Python 3 (ipykernel)",
   "language": "python",
   "name": "python3"
  },
  "language_info": {
   "codemirror_mode": {
    "name": "ipython",
    "version": 3
   },
   "file_extension": ".py",
   "mimetype": "text/x-python",
   "name": "python",
   "nbconvert_exporter": "python",
   "pygments_lexer": "ipython3",
   "version": "3.10.9"
  }
 },
 "nbformat": 4,
 "nbformat_minor": 5
}
