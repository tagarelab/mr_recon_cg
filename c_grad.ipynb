{
 "cells": [
  {
   "cell_type": "markdown",
   "id": "10183bbb",
   "metadata": {},
   "source": [
    "# Conjugate Gradients with operators\n",
    "\n",
    "Written by H. Tagare 2/8/2024\n",
    "\n",
    "The operators are defined in the folder optlib\n",
    "The CG algorithm is defined in the folder c_grad\n",
    "Both have to imported to get everything to work"
   ]
  },
  {
   "cell_type": "code",
   "execution_count": 1,
   "id": "79bed0e3",
   "metadata": {},
   "outputs": [],
   "source": [
    "import numpy as np\n",
    "import optlib.operators as op\n",
    "import optlib.c_grad as cg"
   ]
  },
  {
   "cell_type": "markdown",
   "id": "92840270",
   "metadata": {},
   "source": [
    "### Test 1: Simple test without noise\n",
    "#### The operator A is (MO+R). Task is to recover a vector. No regularization on CG"
   ]
  },
  {
   "cell_type": "code",
   "execution_count": 2,
   "id": "d9a5c0ef",
   "metadata": {
    "scrolled": true
   },
   "outputs": [
    {
     "name": "stdout",
     "output_type": "stream",
     "text": [
      "x=[[1. ]\n",
      " [0.5]\n",
      " [1. ]]\n",
      " y=[[10.1 ]\n",
      " [ 1.05]\n",
      " [ 9.1 ]]\n",
      "CG: step=1 res_norm=3.234651420766811 \n",
      "CG: step=2 res_norm=0.748020413188572 \n",
      "CG: step=3 res_norm=6.937076823812195e-12 \n",
      "x=[[1. ]\n",
      " [0.5]\n",
      " [1. ]] \n",
      " flag=False\n"
     ]
    }
   ],
   "source": [
    "M=op.matrix_op(np.array(((1, 2, 3),(0, 1, 0),(2, 3,1))))\n",
    "O=op.scalar_prod_op(2.0)\n",
    "R=op.scalar_prod_op(0.1)\n",
    "A=op.add_op(op.composite_op(M,O),R) \n",
    "\n",
    "x=np.array((1,0.5,1)).reshape(-1,1) #Input x\n",
    "y=A.forward(x) #Create noiseless output by applying A\n",
    "print(f\"x={x}\\n y={y}\")\n",
    "\n",
    "x0=np.zeros_like(x) #Initial value for CG\n",
    "x,flag=cg.c_grad(y,A,x0)\n",
    "print(f\"x={x} \\n flag={flag}\")"
   ]
  },
  {
   "cell_type": "markdown",
   "id": "a02fd9cb",
   "metadata": {},
   "source": [
    "### Test 2: x is matrix, y contains noise, CG uses regularizer"
   ]
  },
  {
   "cell_type": "code",
   "execution_count": 3,
   "id": "4a3731a4",
   "metadata": {},
   "outputs": [
    {
     "name": "stdout",
     "output_type": "stream",
     "text": [
      "x=[[1.  0. ]\n",
      " [0.5 1. ]\n",
      " [1.  0. ]]\n",
      " y=[[10.14141833  4.02264302]\n",
      " [ 1.07436577  1.89952873]\n",
      " [ 3.04766637 -6.06001173]]\n",
      "CG: step=1 res_norm=8.254723011626185 \n",
      "CG: step=2 res_norm=0.22491730966324167 \n",
      "CG: step=3 res_norm=2.430661817612657e-13 \n",
      "x=[[ 0.99859343 -0.23758606]\n",
      " [ 0.50863263  0.90420706]\n",
      " [ 1.00147787  0.15069718]] \n",
      " flag=False\n"
     ]
    }
   ],
   "source": [
    "M=op.matrix_op(np.array(((1, 2, 3),(0, 1, 0),(2, -3,1))))\n",
    "O=op.scalar_prod_op(2.0)\n",
    "R=op.scalar_prod_op(0.1)\n",
    "\n",
    "A=op.add_op(op.composite_op(M,O),R)\n",
    "\n",
    "x=np.transpose(np.array(((1,0.5,1),(0,1,0))))\n",
    "y=A.forward(x)\n",
    "y=y+0.1*np.random.normal(size=y.shape)\n",
    "print(f\"x={x}\\n y={y}\")\n",
    "\n",
    "x0=np.zeros_like(x)\n",
    "x,flag=cg.c_grad(y,A,x0,B=R,f_tol=1e-6)\n",
    "print(f\"x={x} \\n flag={flag}\")\n"
   ]
  },
  {
   "cell_type": "markdown",
   "id": "dda9f33f",
   "metadata": {
    "scrolled": true
   },
   "source": [
    "### CG with fft"
   ]
  },
  {
   "cell_type": "code",
   "execution_count": 4,
   "id": "6455c223",
   "metadata": {},
   "outputs": [
    {
     "name": "stdout",
     "output_type": "stream",
     "text": [
      "[[-9.35137089e-01  5.79303245e-01 -7.69235386e-01 -1.27389900e+00]\n",
      " [ 1.44953619e+00 -4.23690306e-01  1.76574292e+00 -9.97186553e-04]\n",
      " [ 3.26783388e-01 -2.13127184e+00 -6.31862366e-01 -8.58911648e-01]\n",
      " [ 1.07452299e-01 -5.27870612e-01 -1.12172214e-01 -4.12477654e-01]]\n",
      "x=[[-9.35137089e-01  5.79303245e-01 -7.69235386e-01 -1.27389900e+00]\n",
      " [ 1.44953619e+00 -4.23690306e-01  1.76574292e+00 -9.97186553e-04]\n",
      " [ 3.26783388e-01 -2.13127184e+00 -6.31862366e-01 -8.58911648e-01]\n",
      " [ 1.07452299e-01 -5.27870612e-01 -1.12172214e-01 -4.12477654e-01]]\n",
      "CG: step=1 res_norm=6.8047181790166545e-16 \n",
      "[[-0.98088528  0.55882305 -0.78848974 -1.27603066]\n",
      " [ 1.37903318 -0.39160353  1.79012039  0.00363904]\n",
      " [ 0.2318761  -2.09983246 -0.64560146 -0.84006989]\n",
      " [ 0.05023724 -0.51801781 -0.06920153 -0.38050189]]\n"
     ]
    }
   ],
   "source": [
    "x=np.random.normal(size=(4,4))\n",
    "print(x)\n",
    "A=op.real_fftn_op()\n",
    "y=A.forward(x)\n",
    "y=y+0.2*np.random.normal(size=y.shape)\n",
    "#print(f\"x={x}\\n y={y}\")\n",
    "print(f\"x={x}\")\n",
    "\n",
    "x0=np.zeros_like(x)\n",
    "R=op.scalar_prod_op(0.1)\n",
    "x,_=cg.c_grad(y,A,x0,B=R)\n",
    "print(x)"
   ]
  },
  {
   "cell_type": "code",
   "execution_count": null,
   "id": "b8c198cb",
   "metadata": {},
   "outputs": [],
   "source": []
  }
 ],
 "metadata": {
  "kernelspec": {
   "display_name": "Python 3 (ipykernel)",
   "language": "python",
   "name": "python3"
  },
  "language_info": {
   "codemirror_mode": {
    "name": "ipython",
    "version": 3
   },
   "file_extension": ".py",
   "mimetype": "text/x-python",
   "name": "python",
   "nbconvert_exporter": "python",
   "pygments_lexer": "ipython3",
   "version": "3.10.9"
  }
 },
 "nbformat": 4,
 "nbformat_minor": 5
}
