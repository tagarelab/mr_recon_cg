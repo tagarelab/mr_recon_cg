{
 "cells": [
  {
   "cell_type": "code",
   "execution_count": 8,
   "id": "79bed0e3",
   "metadata": {
    "ExecuteTime": {
     "end_time": "2024-02-15T17:27:18.392575400Z",
     "start_time": "2024-02-15T17:27:18.377561Z"
    }
   },
   "outputs": [],
   "source": [
    "import numpy as np\n",
    "import validation as validation"
   ]
  },
  {
   "cell_type": "code",
   "execution_count": 9,
   "id": "031c9fa0",
   "metadata": {
    "ExecuteTime": {
     "end_time": "2024-02-15T17:27:18.683523500Z",
     "start_time": "2024-02-15T17:27:18.679734800Z"
    }
   },
   "outputs": [],
   "source": [
    "#########################################################################\n",
    "#  Operators\n",
    "#  Each operator must be a class with forward and transpose methods\n",
    "###########################################################################\n",
    "\n",
    "class zero_op:\n",
    "    \"\"\"\n",
    "        Returns 0\n",
    "    \"\"\"\n",
    "    def forward(self,x):\n",
    "        return 0.0\n",
    "    def transpose(self,x):\n",
    "        return 0.0\n",
    "\n",
    "class matrix_op:\n",
    "    \"\"\"\n",
    "        matrix_op(A) converts the matrix A to a matrix \n",
    "        operator and its transpose\n",
    "    \"\"\"\n",
    "    def __init__(self,A):\n",
    "        self.A=A\n",
    "        \n",
    "    def forward(self,x):\n",
    "        return np.matmul(self.A,x)\n",
    "    \n",
    "    def transpose(self,x):\n",
    "        return np.matmul(np.transpose(self.A),x)\n",
    "    \n",
    "    \n",
    "class scalar_prod_op:\n",
    "    \"\"\"\n",
    "       scalar_prod(a) is the scalar product with a\n",
    "    \"\"\"\n",
    "    def __init__(self,a):\n",
    "        self.a=a\n",
    "        \n",
    "    def forward(self,x):\n",
    "        return self.a*x\n",
    "    \n",
    "    def transpose(self,x):\n",
    "        return self.forward(x)\n",
    "    \n",
    "class hadamard_op:\n",
    "    \"\"\"\n",
    "       Hadamard product. Multiply every entry of \n",
    "       x with the corresponding entry of A\n",
    "    \"\"\"\n",
    "    def __init__(self,A):\n",
    "        self.A=A\n",
    "    def forward(self,x):\n",
    "        return self.A*x\n",
    "    def transpose(self,x):\n",
    "        return self.forward(x)\n",
    "    \n",
    "class real_fftn_op:\n",
    "    \"\"\"\n",
    "        FFT of real valued vectors and matrices\n",
    "    \"\"\"\n",
    "    def forward(self,x):\n",
    "        return np.fft.fftshift(np.fft.fftn(np.real(x)))\n",
    "    def transpose(self,x):\n",
    "        return np.real(np.fft.ifftn(np.fft.ifftshift(x)))\n",
    "    \n",
    "    \n",
    "class composite_op:\n",
    "    \"\"\"\n",
    "       Creates a composite operator \n",
    "       Uses mathematical notation\n",
    "       That is, composite_op(A,B,C) is the operator ABC, i.e. C operates first\n",
    "       followed by B followed by A\n",
    "       composite_op accepts any number of operators as arguments\n",
    "    \"\"\"\n",
    "    def __init__(self,*ops):\n",
    "        self.ops=ops\n",
    "        \n",
    "    def forward(self,x):\n",
    "        for op in reversed(self.ops):\n",
    "            x=op.forward(x)\n",
    "        return x\n",
    "    \n",
    "    def transpose(self,x):\n",
    "        for op in self.ops:\n",
    "            x=op.transpose(x)\n",
    "        return x\n",
    "\n",
    "    \n",
    "class add_op:\n",
    "    \"\"\"\n",
    "        Creates a sum operator\n",
    "        e.g. add_op(A,B,C) gives the operator A+B+C\n",
    "    \"\"\"\n",
    "    def __init__(self,*ops):\n",
    "        self.ops=ops\n",
    "\n",
    "    def forward(self,x):\n",
    "        y=0\n",
    "        for op in self.ops:\n",
    "            y += op.forward(x)\n",
    "        return y\n",
    "    \n",
    "    def transpose(self,x):\n",
    "        y=0\n",
    "        for op in self.ops:\n",
    "            y += op.transpose(x)\n",
    "        return y   "
   ]
  },
  {
   "cell_type": "code",
   "execution_count": 10,
   "id": "7c2d1ebc",
   "metadata": {
    "ExecuteTime": {
     "end_time": "2024-02-15T17:27:18.871561500Z",
     "start_time": "2024-02-15T17:27:18.859584500Z"
    }
   },
   "outputs": [],
   "source": [
    "##########################################################\n",
    "#  Utility functions for conjugate gradient\n",
    "##########################################################\n",
    "\n",
    "def inner_prod(x,y):\n",
    "    \"\"\"\n",
    "        real and complex inner product\n",
    "        Works for vectors and matrices\n",
    "    \"\"\"\n",
    "    return np.real(np.sum(np.conj(x)*y))\n",
    "\n",
    "def norm_sq(x):\n",
    "    \"\"\"\n",
    "        Euclidean norm sq for vectors\n",
    "        Frobenius norm sq for matrices\n",
    "        Works for real and complex\n",
    "    \"\"\"\n",
    "    return inner_prod(x,x)\n",
    "\n",
    "def norm(x):\n",
    "    \"\"\"\n",
    "        Euclidean norm for vectors\n",
    "        Frobenius norm for matrices\n",
    "        Works for real and complex\n",
    "    \"\"\"\n",
    "    return np.sqrt(norm_sq(x))\n",
    "    \n",
    "            \n",
    "def lhs_op(A,B):\n",
    "    \"\"\"\n",
    "        Creates the operator on the LHS of the CG linear equation\n",
    "        i.e. creates (A^TA+B^TB)\n",
    "    \"\"\"\n",
    "    def lhs(x):\n",
    "        return A.transpose(A.forward(x))+B.transpose(B.forward(x))\n",
    "    return lhs\n",
    "    \n",
    "##################################################################\n",
    "#    Conjugate gradient minimization with L2 regularization\n",
    "##################################################################\n",
    "    \n",
    "def c_grad(y,A,x,B=zero_op(),max_iter=100,f_tol=1e-5):\n",
    "    \"\"\"\n",
    "     Conjugate gradient algorithm for minimizing ||y-Ax||^2 + ||Bx||^2\n",
    "     The second term is a regulizer, and is optional\n",
    "     The termination criteria are\n",
    "         either k=num_steps >= max_iter \n",
    "         or ||y-Ax||<= f_tol*||y|| (Scipy criterion)\n",
    "         \n",
    "    The minimizer is found by solving the linear equation\n",
    "            (A^TA + B^TB)x=A^Ty\n",
    "    \n",
    "    Inputs: y,A,B as defined by the objective function above. A and B\n",
    "                 have to be operators with forward and transpose defined\n",
    "            max_iter: maximum number of iterations\n",
    "            f_tol: as defined above\n",
    "    \n",
    "    Output: tuple (x,flag)\n",
    "        where x is the solution\n",
    "             flag=1 if max_iter are reached, else 0\n",
    "    \"\"\"\n",
    "    # Mathematical comments below correspond to Wikipedia CG formulae\n",
    "    # written in Latex\n",
    "    # See https://en.wikipedia.org/wiki/Conjugate_gradient_method\n",
    "    \n",
    "    A_star=lhs_op(A,B) #A_star is the operator A^*=(A^TA + B^TB)\n",
    "    b=A.transpose(y)  #A^Ty\n",
    "    r_k=b-A_star(x)\n",
    "    p_k=r_k\n",
    "    x_k=x\n",
    "    #initialize iteration\n",
    "    k=0\n",
    "    t=f_tol*norm(b)\n",
    "    res_norm_sq=norm_sq(r_k)\n",
    "    while ((k<max_iter) & (np.sqrt(res_norm_sq)>=t)):\n",
    "        AtAp=A_star(p_k) #Precalculate to save flops\n",
    "        alpha_k= res_norm_sq/inner_prod(p_k,AtAp) # alpha_k = r^T_kr_k/p^T_k A^*p_k\n",
    "        x_k1=x_k+alpha_k*p_k                      # x_{k+1}=x_k+\\alpha_k p_k\n",
    "        r_k1=r_k-alpha_k*AtAp                     # r_{k+1}= r_{k}-\\alpha_k A^*p_k\n",
    "        beta_k=norm_sq(r_k1)/res_norm_sq          # \\beta_k = r^T_{k+1}r_{k+1}/r^T_kr_k\n",
    "        p_k1=r_k1+beta_k*p_k                      # p_{k+1}= r_{k+1}+\\beta_k p_k\n",
    "        #update\n",
    "        k=k+1\n",
    "        x_k=x_k1\n",
    "        p_k=p_k1\n",
    "        r_k=r_k1\n",
    "        res_norm_sq=norm_sq(r_k)\n",
    "        print(f\"CG: step={k} res_norm={np.sqrt(res_norm_sq)} \")\n",
    "    return x_k,k>=max_iter\n",
    "        "
   ]
  },
  {
   "cell_type": "markdown",
   "id": "92840270",
   "metadata": {},
   "source": [
    "### Test 1: Simple test without noise\n",
    "#### The operator A is (MO+R). Task is to recover a vector. No regularization on CG"
   ]
  },
  {
   "cell_type": "code",
   "execution_count": 32,
   "id": "d9a5c0ef",
   "metadata": {
    "scrolled": true,
    "ExecuteTime": {
     "end_time": "2024-02-15T17:31:11.159675500Z",
     "start_time": "2024-02-15T17:31:11.143864900Z"
    }
   },
   "outputs": [
    {
     "name": "stdout",
     "output_type": "stream",
     "text": [
      "x=[[1. ]\n",
      " [0.5]\n",
      " [1. ]]\n",
      " y=[[10.1 ]\n",
      " [ 1.05]\n",
      " [ 9.1 ]]\n",
      "CG: step=1 res_norm=3.234651420766811 \n",
      "CG: step=2 res_norm=0.7480204131885724 \n",
      "CG: step=3 res_norm=6.8985257123446856e-12 \n",
      "x=[[1. ]\n",
      " [0.5]\n",
      " [1. ]] \n",
      " flag=False\n",
      "Original and CG are equal\n"
     ]
    }
   ],
   "source": [
    "M=matrix_op(np.array(((1, 2, 3),(0, 1, 0),(2, 3,1))))\n",
    "O=scalar_prod_op(2.0)\n",
    "R=scalar_prod_op(0.1)\n",
    "A=add_op(composite_op(M,O),R) \n",
    "\n",
    "x=np.array((1,0.5,1)).reshape(-1,1) #Input x\n",
    "y=A.forward(x) #Create noiseless output by applying A\n",
    "print(f\"x={x}\\n y={y}\")\n",
    "\n",
    "x0=np.zeros_like(x) #Initial value for CG\n",
    "x_cg,flag=c_grad(y,A,x0)\n",
    "print(f\"x={x_cg} \\n flag={flag}\")\n",
    "validation.validate_equal(x, x_cg, \"Original\", \"CG\", rtol=0.1)"
   ]
  },
  {
   "cell_type": "markdown",
   "id": "a02fd9cb",
   "metadata": {},
   "source": [
    "### Test 2: x is matrix, y contains noise, CG uses regularizer"
   ]
  },
  {
   "cell_type": "code",
   "execution_count": 35,
   "id": "4a3731a4",
   "metadata": {
    "ExecuteTime": {
     "end_time": "2024-02-15T17:31:34.366692800Z",
     "start_time": "2024-02-15T17:31:34.350670100Z"
    }
   },
   "outputs": [
    {
     "name": "stdout",
     "output_type": "stream",
     "text": [
      "x=[[1.  0. ]\n",
      " [0.5 1. ]\n",
      " [1.  0. ]]\n",
      " y=[[10.03063349  3.91314989]\n",
      " [ 1.00018442  2.12118154]\n",
      " [ 3.17879495 -5.98570569]]\n",
      "CG: step=1 res_norm=8.195664905134663 \n",
      "CG: step=2 res_norm=0.27537692472762665 \n",
      "CG: step=3 res_norm=1.432877941932448e-13 \n",
      "x=[[ 0.97121412  0.03073669]\n",
      " [ 0.47357632  1.00754367]\n",
      " [ 1.01595754 -0.03024619]] \n",
      " flag=False\n",
      "Original and CG are not equal\n"
     ]
    }
   ],
   "source": [
    "M=matrix_op(np.array(((1, 2, 3),(0, 1, 0),(2, -3,1))))\n",
    "O=scalar_prod_op(2.0)\n",
    "R=scalar_prod_op(0.1)\n",
    "\n",
    "A=add_op(composite_op(M,O),R)\n",
    "\n",
    "x=np.transpose(np.array(((1,0.5,1),(0,1,0))))\n",
    "y=A.forward(x)\n",
    "y=y+0.1*np.random.normal(size=y.shape)\n",
    "print(f\"x={x}\\n y={y}\")\n",
    "\n",
    "x0=np.zeros_like(x)\n",
    "x_cg,flag=c_grad(y,A,x0,B=R,f_tol=1e-8)\n",
    "print(f\"x={x_cg} \\n flag={flag}\")\n",
    "validation.validate_equal(x, x_cg, \"Original\", \"CG\", rtol=0.1)"
   ]
  },
  {
   "cell_type": "markdown",
   "id": "dda9f33f",
   "metadata": {
    "scrolled": true
   },
   "source": [
    "### CG with fft"
   ]
  },
  {
   "cell_type": "code",
   "execution_count": 45,
   "id": "6455c223",
   "metadata": {
    "ExecuteTime": {
     "end_time": "2024-02-15T18:00:18.872256300Z",
     "start_time": "2024-02-15T18:00:18.856507600Z"
    }
   },
   "outputs": [
    {
     "name": "stdout",
     "output_type": "stream",
     "text": [
      "[[-1.0051926   1.19587362 -0.14977859  0.72965053]\n",
      " [ 1.33682123  0.47527541  0.09691704  0.70387281]\n",
      " [-0.80815115  0.90791419  0.66868599  0.30079857]\n",
      " [ 0.94451918  0.16271802  0.52889598  0.62236485]]\n",
      "x=[[-1.0051926   1.19587362 -0.14977859  0.72965053]\n",
      " [ 1.33682123  0.47527541  0.09691704  0.70387281]\n",
      " [-0.80815115  0.90791419  0.66868599  0.30079857]\n",
      " [ 0.94451918  0.16271802  0.52889598  0.62236485]]\n",
      "CG: step=1 res_norm=3.976416080268664e-16 \n",
      "[[-1.02778266  1.21297435 -0.16908533  0.75136733]\n",
      " [ 1.31031303  0.50369473  0.05136426  0.72634982]\n",
      " [-0.80635189  0.92797281  0.56864629  0.32686823]\n",
      " [ 0.92189516  0.190553    0.47906619  0.64932783]]\n",
      "Original and CG are not equal\n"
     ]
    }
   ],
   "source": [
    "x=np.random.normal(size=(4,4))\n",
    "print(x)\n",
    "A=real_fftn_op()\n",
    "y=A.forward(x)\n",
    "y=y+0.2*np.random.normal(size=y.shape)\n",
    "#print(f\"x={x}\\n y={y}\")\n",
    "print(f\"x={x}\")\n",
    "\n",
    "x0=np.zeros_like(x)\n",
    "R=scalar_prod_op(0.1)\n",
    "x_cg,_=c_grad(y,A,x0,B=R)\n",
    "\n",
    "print(x_cg)\n",
    "validation.validate_equal(x, x_cg, \"Original\", \"CG\", rtol=0.1)"
   ]
  },
  {
   "cell_type": "code",
   "execution_count": null,
   "outputs": [],
   "source": [
    "\n"
   ],
   "metadata": {
    "collapsed": false
   }
  }
 ],
 "metadata": {
  "kernelspec": {
   "display_name": "Python 3 (ipykernel)",
   "language": "python",
   "name": "python3"
  },
  "language_info": {
   "codemirror_mode": {
    "name": "ipython",
    "version": 3
   },
   "file_extension": ".py",
   "mimetype": "text/x-python",
   "name": "python",
   "nbconvert_exporter": "python",
   "pygments_lexer": "ipython3",
   "version": "3.10.9"
  }
 },
 "nbformat": 4,
 "nbformat_minor": 5
}
