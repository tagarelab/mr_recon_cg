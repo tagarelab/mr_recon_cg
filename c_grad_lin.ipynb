{
 "cells": [
  {
   "cell_type": "code",
   "execution_count": 116,
   "id": "869e6141",
   "metadata": {},
   "outputs": [
    {
     "data": {
      "text/plain": [
       "<module 'optlib.c_grad' from 'C:\\\\Users\\\\hdtag\\\\rpt\\\\2024\\\\c_grad\\\\optlib\\\\c_grad.py'>"
      ]
     },
     "execution_count": 116,
     "metadata": {},
     "output_type": "execute_result"
    }
   ],
   "source": [
    "import numpy as np\n",
    "import optlib.operators as op\n",
    "import optlib.c_grad as cg\n",
    "import importlib\n",
    "importlib.reload(cg)\n"
   ]
  },
  {
   "cell_type": "code",
   "execution_count": 109,
   "id": "6af16db7",
   "metadata": {},
   "outputs": [],
   "source": [
    "def inner_prod(x,y):\n",
    "    \"\"\"\n",
    "        real and complex inner product\n",
    "        Works for vectors and matrices\n",
    "    \"\"\"\n",
    "    return np.real(np.sum(x*y))\n",
    "\n",
    "def norm_sq(x):\n",
    "    \"\"\"\n",
    "        Euclidean norm sq for vectors\n",
    "        Frobenius norm sq for matrices\n",
    "        Works for real and complex\n",
    "    \"\"\"\n",
    "    return inner_prod(x,x)\n",
    "\n",
    "def norm(x):\n",
    "    \"\"\"\n",
    "        Euclidean norm for vectors\n",
    "        Frobenius norm for matrices\n",
    "        Works for real and complex\n",
    "    \"\"\"\n",
    "    return np.sqrt(norm_sq(x))"
   ]
  },
  {
   "cell_type": "code",
   "execution_count": 110,
   "id": "3411fd51",
   "metadata": {},
   "outputs": [
    {
     "name": "stdout",
     "output_type": "stream",
     "text": [
      "<optlib.operators.matrix_op object at 0x0000021BF93A6E30>\n",
      "x=[[1. ]\n",
      " [0.5]\n",
      " [1. ]]\n",
      " y=[[5. ]\n",
      " [0.5]\n",
      " [4.5]]\n"
     ]
    }
   ],
   "source": [
    "A=op.matrix_op(np.array(((1, 2, 3),(0, 1, 0),(2, 3,1))))\n",
    "print(A)\n",
    "x=np.array((1,0.5,1)).reshape(-1,1) #Input x\n",
    "y=A.forward(x) #Create noiseless output by applying A\n",
    "print(f\"x={x}\\n y={y}\")\n",
    "ATy=A.transpose(y)\n",
    "ATA=op.composite_op(A.transpose,A)"
   ]
  },
  {
   "cell_type": "code",
   "execution_count": 121,
   "id": "e7698031",
   "metadata": {},
   "outputs": [
    {
     "name": "stdout",
     "output_type": "stream",
     "text": [
      "CG: step=1 res_norm=0.7869500456466976 \n",
      "CG: step=2 res_norm=0.17950387292115147 \n",
      "CG: step=3 res_norm=1.5979866038187716e-12 \n",
      "[[1. ]\n",
      " [0.5]\n",
      " [1. ]]\n"
     ]
    }
   ],
   "source": [
    "importlib.reload(cg)\n",
    "x0=np.zeros_like(x) #Initial value for CG\n",
    "x,flag=cg.solve_lin_cg(y,A,x0)\n",
    "print(x)"
   ]
  },
  {
   "cell_type": "code",
   "execution_count": 81,
   "id": "dc9cf106",
   "metadata": {},
   "outputs": [],
   "source": [
    "# def c_grad_lin1(y,A,x0,max_iter=6,f_tol=1e-5):\n",
    "#     # Mathematical comments below correspond to Wikipedia CG formulae\n",
    "#     # written in Latex\n",
    "#     # See https://en.wikipedia.org/wiki/Conjugate_gradient_method\n",
    "    \n",
    "#     #initialize iteration\n",
    "#     b=y  \n",
    "#     x_k=x0\n",
    "#     r_k=b-np.matmul(A,x_k)\n",
    "#     p_k=r_k\n",
    "\n",
    "\n",
    "#     k=0\n",
    "#     t=f_tol*norm(b)\n",
    "#     res_norm_sq=norm_sq(r_k)\n",
    "#     while ((k<max_iter) & (np.sqrt(res_norm_sq)>=t)):\n",
    "#         Ap_k=np.matmul(A,p_k)\n",
    "#         alpha_k= res_norm_sq/inner_prod(p_k,Ap_k) # alpha_k = r^T_kr_k/p^T_k Ap_k\n",
    "#         x_k1=x_k+alpha_k*p_k                      # x_{k+1}=x_k+\\alpha_k p_k\n",
    "#         r_k1=r_k-alpha_k*Ap_k                # r_{k+1}= r_{k}-\\alpha_k Ap_k\n",
    "#         beta_k=norm_sq(r_k1)/res_norm_sq          # \\beta_k = r^T_{k+1}r_{k+1}/r^T_kr_k\n",
    "#         p_k1=r_k1+beta_k*p_k                      # p_{k+1}= r_{k+1}+\\beta_k p_k\n",
    "#    #     print(f\"CG: step={k} res_norm={np.sqrt(res_norm_sq)} alpha={alpha_k} beta={beta_k} p_k={norm(p_k1)}\")\n",
    "#         print(f\"CG: step={k} r_k1={norm(r_k1)} r_k={np.sqrt(res_norm_sq)} \")\n",
    "#         #update\n",
    "#         k=k+1\n",
    "#         x_k=x_k1\n",
    "#         p_k=p_k1\n",
    "#         r_k=r_k1\n",
    "#         res_norm_sq=norm_sq(r_k)\n",
    "#     print(f\"CG: step={k} res_norm={np.sqrt(res_norm_sq)} alpha={alpha_k}\")\n",
    "#     return x_k,k>=max_iter\n",
    "\n",
    "# def c_grad_lin1(b,A,x0,max_iter=6,f_tol=1e-5):\n",
    "#     g_im1=b-np.matmul(A,x0)\n",
    "#     x_i=x0\n",
    "#     i=1\n",
    "#     for i in range(6):\n",
    "#         if i>0:\n",
    "#             beta_i=-norm_sq(g_im1)/norm_sq(g_im2)\n",
    "#         if i==0:\n",
    "#             p_i=g_im1\n",
    "#         else:\n",
    "#             p_i=g_im1-beta_i*p_im1\n",
    "#         alpha_i=norm_sq(g_im1)/inner_prod(p_i,np.matmul(A,x))\n",
    "#         x_i=x_i+alpha_i*p_i\n",
    "#         g_i=g_im1-alpha_i*np.matmul(A,p_i)\n",
    "        \n",
    "#         print(f\"{i}:norm={norm(g_i)}\")\n",
    "#         p_im1=p_i\n",
    "#         g_im2=g_im1\n",
    "#         g_im1=g_i\n",
    "        "
   ]
  },
  {
   "cell_type": "code",
   "execution_count": 91,
   "id": "82c05815",
   "metadata": {},
   "outputs": [
    {
     "ename": "AttributeError",
     "evalue": "'function' object has no attribute 'forward'",
     "output_type": "error",
     "traceback": [
      "\u001b[1;31m---------------------------------------------------------------------------\u001b[0m",
      "\u001b[1;31mAttributeError\u001b[0m                            Traceback (most recent call last)",
      "Cell \u001b[1;32mIn[91], line 2\u001b[0m\n\u001b[0;32m      1\u001b[0m x0\u001b[38;5;241m=\u001b[39mnp\u001b[38;5;241m.\u001b[39mzeros_like(x) \u001b[38;5;66;03m#Initial value for CG\u001b[39;00m\n\u001b[1;32m----> 2\u001b[0m x,flag\u001b[38;5;241m=\u001b[39m\u001b[43mcg\u001b[49m\u001b[38;5;241;43m.\u001b[39;49m\u001b[43mc_grad_lin\u001b[49m\u001b[43m(\u001b[49m\u001b[43mATy\u001b[49m\u001b[43m,\u001b[49m\u001b[43mATA\u001b[49m\u001b[43m,\u001b[49m\u001b[43mx0\u001b[49m\u001b[43m)\u001b[49m \u001b[38;5;66;03m#Apply CG\u001b[39;00m\n\u001b[0;32m      3\u001b[0m \u001b[38;5;28mprint\u001b[39m(x)\n",
      "File \u001b[1;32m~\\rpt\\2024\\c_grad\\optlib\\c_grad.py:75\u001b[0m, in \u001b[0;36mc_grad_lin\u001b[1;34m(y, A, x0, B, max_iter, f_tol)\u001b[0m\n\u001b[0;32m     73\u001b[0m b\u001b[38;5;241m=\u001b[39my  \n\u001b[0;32m     74\u001b[0m x_k\u001b[38;5;241m=\u001b[39mx0\n\u001b[1;32m---> 75\u001b[0m r_k\u001b[38;5;241m=\u001b[39mb\u001b[38;5;241m-\u001b[39m\u001b[43mA\u001b[49m\u001b[38;5;241;43m.\u001b[39;49m\u001b[43mforward\u001b[49m\u001b[43m(\u001b[49m\u001b[43mx_k\u001b[49m\u001b[43m)\u001b[49m\n\u001b[0;32m     76\u001b[0m p_k\u001b[38;5;241m=\u001b[39mr_k\n\u001b[0;32m     79\u001b[0m k\u001b[38;5;241m=\u001b[39m\u001b[38;5;241m0\u001b[39m\n",
      "File \u001b[1;32m~\\rpt\\2024\\c_grad\\optlib\\operators.py:93\u001b[0m, in \u001b[0;36mcomposite_op.forward\u001b[1;34m(self, x)\u001b[0m\n\u001b[0;32m     91\u001b[0m \u001b[38;5;28;01mdef\u001b[39;00m \u001b[38;5;21mforward\u001b[39m(\u001b[38;5;28mself\u001b[39m,x):\n\u001b[0;32m     92\u001b[0m     \u001b[38;5;28;01mfor\u001b[39;00m op \u001b[38;5;129;01min\u001b[39;00m \u001b[38;5;28mreversed\u001b[39m(\u001b[38;5;28mself\u001b[39m\u001b[38;5;241m.\u001b[39mops):\n\u001b[1;32m---> 93\u001b[0m         x\u001b[38;5;241m=\u001b[39m\u001b[43mop\u001b[49m\u001b[38;5;241;43m.\u001b[39;49m\u001b[43mforward\u001b[49m(x)\n\u001b[0;32m     94\u001b[0m     \u001b[38;5;28;01mreturn\u001b[39;00m x\n",
      "\u001b[1;31mAttributeError\u001b[0m: 'function' object has no attribute 'forward'"
     ]
    }
   ],
   "source": [
    "x0=np.zeros_like(x) #Initial value for CG\n",
    "x,flag=cg.c_grad_lin(ATy,ATA,x0) #Apply CG\n",
    "print(x)"
   ]
  },
  {
   "cell_type": "code",
   "execution_count": null,
   "id": "c5fd8a10",
   "metadata": {},
   "outputs": [],
   "source": []
  },
  {
   "cell_type": "code",
   "execution_count": null,
   "id": "fd692375",
   "metadata": {},
   "outputs": [],
   "source": []
  }
 ],
 "metadata": {
  "kernelspec": {
   "display_name": "Python 3 (ipykernel)",
   "language": "python",
   "name": "python3"
  },
  "language_info": {
   "codemirror_mode": {
    "name": "ipython",
    "version": 3
   },
   "file_extension": ".py",
   "mimetype": "text/x-python",
   "name": "python",
   "nbconvert_exporter": "python",
   "pygments_lexer": "ipython3",
   "version": "3.10.9"
  }
 },
 "nbformat": 4,
 "nbformat_minor": 5
}
