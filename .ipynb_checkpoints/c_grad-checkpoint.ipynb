{
 "cells": [
  {
   "cell_type": "code",
   "execution_count": 1,
   "id": "79bed0e3",
   "metadata": {},
   "outputs": [],
   "source": [
    "import numpy as np"
   ]
  },
  {
   "cell_type": "code",
   "execution_count": 2,
   "id": "031c9fa0",
   "metadata": {},
   "outputs": [],
   "source": [
    "class matrix_form:\n",
    "    def __init__(self,A):\n",
    "        self.A=A\n",
    "        \n",
    "    def forward(self,x):\n",
    "        return np.matmul(self.A,x)\n",
    "    \n",
    "    def transpose(self,x):\n",
    "        return np.matmul(np.transpose(self.A),x)\n",
    "    \n",
    "class operator_form:\n",
    "    def __init__(self,a):\n",
    "        self.a=a\n",
    "        \n",
    "    def forward(self,x):\n",
    "        return self.a*x\n",
    "    \n",
    "    def transpose(self,x):\n",
    "        return self.forward(x)\n",
    "    \n",
    "class real_fftn_operator:\n",
    "    def forward(self,x):\n",
    "        return np.fft.fftshift(np.fft.fftn(np.real(x)))\n",
    "    def transpose(self,x):\n",
    "        return np.real(np.fft.ifftn(np.fft.ifftshift(x)))\n",
    "    \n",
    "    \n",
    "class composite_operator:\n",
    "    def __init__(self,*ops):\n",
    "        self.ops=ops\n",
    "        \n",
    "    def forward(self,x):\n",
    "        for op in reversed(self.ops):\n",
    "            x=op.forward(x)\n",
    "        return x\n",
    "    \n",
    "    def transpose(self,x):\n",
    "        for op in self.ops:\n",
    "            x=op.transpose(x)\n",
    "        return x\n",
    "    \n",
    "class add_operator:\n",
    "    def __init__(self,*ops):\n",
    "        self.ops=ops\n",
    "\n",
    "    def forward(self,x):\n",
    "        y=0\n",
    "        for op in self.ops:\n",
    "            y += op.forward(x)\n",
    "        return y\n",
    "    \n",
    "    def transpose(self,x):\n",
    "        y=0\n",
    "        for op in self.ops:\n",
    "            y += op.transpose(x)\n",
    "        return y   "
   ]
  },
  {
   "cell_type": "code",
   "execution_count": 3,
   "id": "7c2d1ebc",
   "metadata": {},
   "outputs": [],
   "source": [
    "def gradient(y,A,x):\n",
    "    return A.transpose(-y+A.forward(x))\n",
    "\n",
    "def grad_desc(y,A,x,max_iter=10,step_size=0.1,tol=1e-3):\n",
    "    steps=0\n",
    "    diff=np.Inf\n",
    "    while ((steps<max_iter)&(diff>tol)):\n",
    "        x=x-step_size*gradient(y,A,x)\n",
    "        diff=np.linalg.norm(y-A.forward(x))\n",
    "        steps= steps+1\n",
    "        if np.mod(steps,50)==0:\n",
    "            print(f\"steps={steps}, diff={diff}\")\n",
    "    return x\n",
    "\n",
    "def norm_sq(x):\n",
    "    return np.sum(np.abs(x)**2)\n",
    "\n",
    "def norm(x):\n",
    "    return np.sqrt(norm_sq(x))\n",
    "\n",
    "def c_grad_desc(y,A,x,max_iter=30,tol=1e-3):\n",
    "    \"\"\"\n",
    "        Conjugate gradient descent to solve\n",
    "            min_x ||y-Ax||^2\n",
    "        \n",
    "        Terminates if num iterations exceeds max_iter\n",
    "        or if difference between the norms of the residue y-Ax\n",
    "        for succesive iterations is less than tol\n",
    "        \n",
    "        Returns the minimizing x\n",
    "    \"\"\"\n",
    "    r_1=y-A.forward(x)\n",
    "    g_1=A.transpose(r_1)\n",
    "    steps=0\n",
    "    diff=np.Inf\n",
    "    print(f\"steps={steps}, norm={norm(r_1)}, diff={diff}\")\n",
    "    while ((steps<max_iter)&(diff>tol)):\n",
    "        if steps==0:\n",
    "            p=g_1\n",
    "        else:\n",
    "            beta=-norm_sq(g_1)/norm_sq(g_2)\n",
    "            p=g_1-beta*p\n",
    "\n",
    "        Ap=A.forward(p)\n",
    "        alpha=norm_sq(g_1)/norm_sq(Ap)\n",
    "        x=x+alpha*p\n",
    "        r=r_1-alpha*Ap\n",
    "        g_2=g_1\n",
    "        g_1=A.transpose(r)\n",
    "        diff=norm(r_1)-norm(r)\n",
    "        r_1=r\n",
    "        steps=steps+1\n",
    "        print(f\"steps={steps}, norm={norm(r)},  diff={diff}\")\n",
    "    \n",
    "            \n",
    "    return(x)\n",
    "    "
   ]
  },
  {
   "cell_type": "code",
   "execution_count": 4,
   "id": "d9a5c0ef",
   "metadata": {},
   "outputs": [
    {
     "name": "stdout",
     "output_type": "stream",
     "text": [
      "x=[[1. ]\n",
      " [0.5]\n",
      " [1. ]]\n",
      " y=[[10.05052511]\n",
      " [ 1.13982232]\n",
      " [ 3.07295379]]\n",
      "steps=0, norm=10.571437693483073, diff=inf\n",
      "steps=1, norm=0.80304941713317,  diff=9.768388276349903\n",
      "steps=2, norm=0.3968309756439947,  diff=0.4062184414891753\n",
      "steps=3, norm=2.982368969389268e-14,  diff=0.3968309756439649\n",
      "steps=4, norm=1.2736680793741568e-15,  diff=2.855002161451852e-14\n",
      "[[1.09396225]\n",
      " [0.54277253]\n",
      " [0.93035238]]\n"
     ]
    }
   ],
   "source": [
    "M=matrix_form(np.array(((1, 2, 3),(0, 1, 0),(2, -3,1))))\n",
    "O=operator_form(2.0)\n",
    "R=operator_form(0.1)\n",
    "\n",
    "A=add_operator(composite_operator(M,O),R)\n",
    "\n",
    "x=np.array((1,0.5,1)).reshape(-1,1)\n",
    "y=A.forward(x)\n",
    "y=y+0.1*np.random.normal(size=y.shape)\n",
    "print(f\"x={x}\\n y={y}\")\n",
    "\n",
    "x0=np.zeros_like(x)\n",
    "x=c_grad_desc(y,A,x0,max_iter=40)\n",
    "print(x)"
   ]
  },
  {
   "cell_type": "code",
   "execution_count": 5,
   "id": "4a3731a4",
   "metadata": {},
   "outputs": [
    {
     "name": "stdout",
     "output_type": "stream",
     "text": [
      "x=[[1.  0. ]\n",
      " [0.5 1. ]\n",
      " [1.  0. ]]\n",
      " y=[[10.20766843  4.06860679]\n",
      " [ 1.35023665  2.08490519]\n",
      " [ 3.14263846 -6.0410824 ]]\n",
      "steps=0, norm=13.163999304233233, diff=inf\n",
      "steps=1, norm=1.2600710854172203,  diff=11.903928218816013\n",
      "steps=2, norm=0.6220668809375896,  diff=0.6380042044796308\n",
      "steps=3, norm=1.573019279464066e-14,  diff=0.6220668809375738\n",
      "steps=4, norm=1.024437759539768e-15,  diff=1.4705755035100892e-14\n",
      "[[ 1.32555322 -0.03622848]\n",
      " [ 0.64296983  0.992812  ]\n",
      " [ 0.80868789  0.02890644]]\n"
     ]
    }
   ],
   "source": [
    "M=matrix_form(np.array(((1, 2, 3),(0, 1, 0),(2, -3,1))))\n",
    "O=operator_form(2.0)\n",
    "R=operator_form(0.1)\n",
    "\n",
    "A=add_operator(composite_operator(M,O),R)\n",
    "\n",
    "x=np.transpose(np.array(((1,0.5,1),(0,1,0))))\n",
    "y=A.forward(x)\n",
    "y=y+0.1*np.random.normal(size=y.shape)\n",
    "print(f\"x={x}\\n y={y}\")\n",
    "\n",
    "x0=np.zeros_like(x)\n",
    "x=c_grad_desc(y,A,x0,max_iter=40)\n",
    "print(x)\n"
   ]
  },
  {
   "cell_type": "code",
   "execution_count": 132,
   "id": "cdc65a89",
   "metadata": {},
   "outputs": [
    {
     "name": "stdout",
     "output_type": "stream",
     "text": [
      "[[-0.59858012  1.61968313  0.58875604 -2.55922274]\n",
      " [-0.1328692  -0.32811883 -0.72820304  0.99929853]\n",
      " [-0.27176478  0.0431804   0.40721786 -0.52136281]\n",
      " [-2.14659713  0.21950803  0.55433876  0.5394578 ]]\n"
     ]
    }
   ],
   "source": [
    "x=np.random.normal(size=(4,4))\n",
    "print(x)"
   ]
  },
  {
   "cell_type": "code",
   "execution_count": 140,
   "id": "6455c223",
   "metadata": {},
   "outputs": [
    {
     "name": "stdout",
     "output_type": "stream",
     "text": [
      "x=[[ 0.00227292+0.j  0.00191843+0.j  0.00166036+0.j  0.00212234+0.j]\n",
      " [ 0.00042864+0.j -0.00216458+0.j -0.00212641+0.j -0.00041889+0.j]\n",
      " [ 0.00149081+0.j  0.0034884 +0.j  0.00362463+0.j  0.00351594+0.j]\n",
      " [ 0.0005269 +0.j -0.00038084+0.j -0.00218899+0.j -0.00220691+0.j]]\n",
      " y=[[ 0.08423428+0.00000000e+00j -0.07108375-3.11835687e-04j\n",
      "  -0.15963546+0.00000000e+00j -0.10513301+3.11835687e-04j]\n",
      " [-0.00682933-3.99612146e-05j -0.10929664-3.37199776e-04j\n",
      "  -0.02197614-3.13942812e-05j  0.07941501+1.55211361e-05j]\n",
      " [-0.04306108+0.00000000e+00j  0.02706437-1.51071288e-04j\n",
      "   0.20536245+0.00000000e+00j -0.01091953+1.51071288e-04j]\n",
      " [-0.18716543+3.99612146e-05j -0.02292763-1.55211361e-05j\n",
      "  -0.0437376 +3.13942812e-05j  0.01459918+3.37199776e-04j]]\n",
      "steps=0, diff=inf\n",
      "steps=1, norm=0.36821310934930235  diff=0.019123571610072\n",
      "steps=2, norm=0.359060145425466  diff=0.009152963923836355\n",
      "steps=3, norm=0.3531294978523085  diff=0.005930647573157477\n",
      "steps=4, norm=0.348775090799244  diff=0.004354407053064502\n",
      "steps=5, norm=0.3453502839879374  diff=0.0034248068113066354\n",
      "steps=6, norm=0.3425364502339275  diff=0.002813833754009898\n",
      "steps=7, norm=0.34015375296304506  diff=0.002382697270882417\n",
      "steps=8, norm=0.33809099370881446  diff=0.002062759254230606\n",
      "steps=9, norm=0.3362747404286127  diff=0.0018162532802017406\n",
      "steps=10, norm=0.3346540265902783  diff=0.0016207138383343977\n",
      "steps=11, norm=0.33319207092949105  diff=0.001461955660787273\n",
      "steps=12, norm=0.33186148194815795  diff=0.0013305889813330918\n",
      "steps=13, norm=0.33064132628464377  diff=0.0012201556635141886\n",
      "steps=14, norm=0.32951525558949585  diff=0.0011260706951479182\n",
      "steps=15, norm=0.32847026486716147  diff=0.0010449907223343824\n",
      "steps=16, norm=0.3274958433720074  diff=0.0009744214951540875\n",
      "[[-0.00461693+0.j  0.00163237+0.j  0.00031693+0.j  0.00167296+0.j]\n",
      " [ 0.00534087+0.j  0.00801006+0.j  0.00057034+0.j  0.00424012+0.j]\n",
      " [ 0.00279619+0.j -0.0015421 +0.j  0.00582849+0.j -0.00153661+0.j]\n",
      " [ 0.00536043+0.j  0.00424769+0.j  0.00055788+0.j  0.00800163+0.j]]\n"
     ]
    }
   ],
   "source": [
    "A=real_fftn_operator()\n",
    "y=A.forward(x)\n",
    "y=y+0.1*np.random.normal(size=y.shape)\n",
    "print(f\"x={x}\\n y={y}\")\n",
    "\n",
    "x0=np.zeros_like(x)\n",
    "x=c_grad_desc(y,A,x0,max_iter=40,tol=1e-3)\n",
    "print(x)"
   ]
  },
  {
   "cell_type": "code",
   "execution_count": null,
   "id": "a03094cb",
   "metadata": {},
   "outputs": [],
   "source": []
  },
  {
   "cell_type": "code",
   "execution_count": null,
   "id": "5122d3b4",
   "metadata": {},
   "outputs": [],
   "source": []
  }
 ],
 "metadata": {
  "kernelspec": {
   "display_name": "Python 3 (ipykernel)",
   "language": "python",
   "name": "python3"
  },
  "language_info": {
   "codemirror_mode": {
    "name": "ipython",
    "version": 3
   },
   "file_extension": ".py",
   "mimetype": "text/x-python",
   "name": "python",
   "nbconvert_exporter": "python",
   "pygments_lexer": "ipython3",
   "version": "3.10.9"
  }
 },
 "nbformat": 4,
 "nbformat_minor": 5
}
